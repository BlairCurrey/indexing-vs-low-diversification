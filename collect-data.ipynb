{
 "cells": [
  {
   "cell_type": "markdown",
   "metadata": {},
   "source": [
    "# Collecting Data\n",
    "I will use the yahoo finance API to get the start and end price for our benchmark, DIA. DIA is the oldest Dow Jones mutual fund. Yahoo finance has data going back to 1998 for this fund. We will get the prices for the components of the Dow Jones circa 1997 (as determined from [this wikipedia article](https://en.wikipedia.org/wiki/Historical_components_of_the_Dow_Jones_Industrial_Average)) for the same time period as our benchmark.\n",
    "\n",
    "I will keep transformation and cleaning to a minimum during the collection phase."
   ]
  },
  {
   "cell_type": "code",
   "execution_count": 256,
   "metadata": {},
   "outputs": [],
   "source": [
    "import datetime as dt\n",
    "import yfinance as yf\n",
    "import pandas as pd\n",
    "import numpy as np\n",
    "import json\n",
    "import os\n",
    "from time import sleep\n",
    "pd.set_option('display.max_rows', 10)"
   ]
  },
  {
   "cell_type": "markdown",
   "metadata": {},
   "source": [
    "Setup directories if necessary"
   ]
  },
  {
   "cell_type": "code",
   "execution_count": 2,
   "metadata": {},
   "outputs": [
    {
     "name": "stdout",
     "output_type": "stream",
     "text": [
      "[WinError 183] Cannot create a file when that file already exists: 'data/raw'\n"
     ]
    }
   ],
   "source": [
    "try:\n",
    "    os.makedirs(\"data/raw\") \n",
    "except FileExistsError as e:\n",
    "    print(e)"
   ]
  },
  {
   "cell_type": "markdown",
   "metadata": {},
   "source": [
    "## Get DIA History"
   ]
  },
  {
   "cell_type": "code",
   "execution_count": 222,
   "metadata": {},
   "outputs": [],
   "source": [
    "def max_start_and_end_data_for(symbol):\n",
    "    df = yf.Ticker(symbol).history(period=\"max\").iloc[[0, -1]]\n",
    "    return add_symbol_as_top_index(df, symbol)\n",
    "\n",
    "def add_symbol_as_top_index(df, symbol):\n",
    "    return pd.concat({f'{symbol}': df}, names=['Symbol'])"
   ]
  },
  {
   "cell_type": "markdown",
   "metadata": {},
   "source": [
    "This retrieves the start and end data for DIA and saves it locally.\n",
    "\n",
    "Set `force` to `True` to run."
   ]
  },
  {
   "cell_type": "code",
   "execution_count": 186,
   "metadata": {},
   "outputs": [],
   "source": [
    "force = False\n",
    "\n",
    "if force:\n",
    "    dia_history = max_start_and_end_data_for(\"DIA\")\n",
    "    dia_history.to_pickle(\"data/raw/DIA.pickle\")"
   ]
  },
  {
   "cell_type": "markdown",
   "metadata": {},
   "source": [
    "Loads DIA history"
   ]
  },
  {
   "cell_type": "code",
   "execution_count": 187,
   "metadata": {},
   "outputs": [
    {
     "data": {
      "text/html": [
       "<div>\n",
       "<style scoped>\n",
       "    .dataframe tbody tr th:only-of-type {\n",
       "        vertical-align: middle;\n",
       "    }\n",
       "\n",
       "    .dataframe tbody tr th {\n",
       "        vertical-align: top;\n",
       "    }\n",
       "\n",
       "    .dataframe thead th {\n",
       "        text-align: right;\n",
       "    }\n",
       "</style>\n",
       "<table border=\"1\" class=\"dataframe\">\n",
       "  <thead>\n",
       "    <tr style=\"text-align: right;\">\n",
       "      <th></th>\n",
       "      <th></th>\n",
       "      <th>Open</th>\n",
       "      <th>High</th>\n",
       "      <th>Low</th>\n",
       "      <th>Close</th>\n",
       "      <th>Volume</th>\n",
       "      <th>Dividends</th>\n",
       "      <th>Stock Splits</th>\n",
       "    </tr>\n",
       "    <tr>\n",
       "      <th>Symbol</th>\n",
       "      <th>Date</th>\n",
       "      <th></th>\n",
       "      <th></th>\n",
       "      <th></th>\n",
       "      <th></th>\n",
       "      <th></th>\n",
       "      <th></th>\n",
       "      <th></th>\n",
       "    </tr>\n",
       "  </thead>\n",
       "  <tbody>\n",
       "    <tr>\n",
       "      <th rowspan=\"2\" valign=\"top\">DIA</th>\n",
       "      <th>1998-01-20</th>\n",
       "      <td>47.228395</td>\n",
       "      <td>47.854313</td>\n",
       "      <td>46.981821</td>\n",
       "      <td>47.835346</td>\n",
       "      <td>1744600</td>\n",
       "      <td>0.0</td>\n",
       "      <td>0</td>\n",
       "    </tr>\n",
       "    <tr>\n",
       "      <th>2021-01-14</th>\n",
       "      <td>310.630005</td>\n",
       "      <td>312.268311</td>\n",
       "      <td>310.130005</td>\n",
       "      <td>310.720001</td>\n",
       "      <td>1787230</td>\n",
       "      <td>0.0</td>\n",
       "      <td>0</td>\n",
       "    </tr>\n",
       "  </tbody>\n",
       "</table>\n",
       "</div>"
      ],
      "text/plain": [
       "                         Open        High         Low       Close   Volume  \\\n",
       "Symbol Date                                                                  \n",
       "DIA    1998-01-20   47.228395   47.854313   46.981821   47.835346  1744600   \n",
       "       2021-01-14  310.630005  312.268311  310.130005  310.720001  1787230   \n",
       "\n",
       "                   Dividends  Stock Splits  \n",
       "Symbol Date                                 \n",
       "DIA    1998-01-20        0.0             0  \n",
       "       2021-01-14        0.0             0  "
      ]
     },
     "execution_count": 187,
     "metadata": {},
     "output_type": "execute_result"
    }
   ],
   "source": [
    "dia_history = pd.read_pickle(\"data/raw/DIA.pickle\")\n",
    "dia_history"
   ]
  },
  {
   "cell_type": "markdown",
   "metadata": {},
   "source": [
    "## Get History for Dow Companies"
   ]
  },
  {
   "cell_type": "code",
   "execution_count": 248,
   "metadata": {},
   "outputs": [],
   "source": [
    "def dow_symbols(path):\n",
    "    with open(f'{path}.json', 'r') as fp:\n",
    "        symbols = json.load(fp)\n",
    "    return [list(k.keys())[0] for k in symbols]\n",
    "\n",
    "def make_dummy_df(timestamp):\n",
    "    df = pd.read_pickle(\"data/raw/DIA.pickle\")\n",
    "    df = (df\n",
    "          .drop(index=df.index[0][1], level=1)  #drop 1st date row\n",
    "          .droplevel(0))\n",
    "    df = df.rename(index={df.index[0] : timestamp})\n",
    "    df[df.columns] = np.nan\n",
    "    return df\n",
    "\n",
    "def start_and_end_data_for(symbol, start_timestamp, end_timestamp):\n",
    "    start_end_timestamp = start_timestamp + dt.timedelta(days=1)\n",
    "    end_end_timestamp = end_timestamp + dt.timedelta(days=1)\n",
    "    \n",
    "    start = yf.Ticker(symbol).history(start=start_timestamp, end=start_end_timestamp)\n",
    "    end = yf.Ticker(symbol).history(start=end_timestamp, end=end_end_timestamp)\n",
    "    \n",
    "    if start.empty:\n",
    "        start = make_dummy_df(start_timestamp)\n",
    "    if end.empty:\n",
    "        end = make_dummy_df(end_timestamp)\n",
    "    \n",
    "    return(pd.concat([start, end]))"
   ]
  },
  {
   "cell_type": "markdown",
   "metadata": {},
   "source": [
    "Here we get the individual stocks in the Dow Jones based according to `data/dow-symbols` and the time period established by our benchmark, DIA and pickle them.\n",
    "\n",
    "Set `force` to `True` to run."
   ]
  },
  {
   "cell_type": "code",
   "execution_count": 249,
   "metadata": {},
   "outputs": [],
   "source": [
    "force = False\n",
    "\n",
    "if force:\n",
    "    dow_sym = dow_symbols(\"data/dow-symbols\")\n",
    "    start_timestamp = dia_history.index[0][1]\n",
    "    end_timestamp = dia_history.index[1][1]\n",
    "\n",
    "    for s in dow_sym:\n",
    "        df = start_and_end_data_for(s, start_timestamp, end_timestamp)\n",
    "        combined = add_symbol_as_top_index(df, s)\n",
    "        combined.to_pickle(f\"data/raw/{s}.pickle\")\n",
    "        sleep(0.6)"
   ]
  },
  {
   "cell_type": "markdown",
   "metadata": {},
   "source": [
    "Loads the dataframes from file and combines everything into a single `data/dow.csv`"
   ]
  },
  {
   "cell_type": "code",
   "execution_count": 252,
   "metadata": {},
   "outputs": [],
   "source": [
    "def combine_pickles():\n",
    "    pickles = [f for f in os.listdir(\"data/raw\")]\n",
    "    dataframes = [pd.read_pickle(f\"data/raw/{p}\") for p in pickles]\n",
    "    return pd.concat(dataframes)"
   ]
  },
  {
   "cell_type": "code",
   "execution_count": 253,
   "metadata": {},
   "outputs": [],
   "source": [
    "combine_pickles().to_csv(\"data/dow.csv\")"
   ]
  },
  {
   "cell_type": "markdown",
   "metadata": {},
   "source": [
    "Elsewhere, we can load our data from csv like so:"
   ]
  },
  {
   "cell_type": "code",
   "execution_count": 257,
   "metadata": {},
   "outputs": [
    {
     "data": {
      "text/html": [
       "<div>\n",
       "<style scoped>\n",
       "    .dataframe tbody tr th:only-of-type {\n",
       "        vertical-align: middle;\n",
       "    }\n",
       "\n",
       "    .dataframe tbody tr th {\n",
       "        vertical-align: top;\n",
       "    }\n",
       "\n",
       "    .dataframe thead th {\n",
       "        text-align: right;\n",
       "    }\n",
       "</style>\n",
       "<table border=\"1\" class=\"dataframe\">\n",
       "  <thead>\n",
       "    <tr style=\"text-align: right;\">\n",
       "      <th></th>\n",
       "      <th></th>\n",
       "      <th>Open</th>\n",
       "      <th>High</th>\n",
       "      <th>Low</th>\n",
       "      <th>Close</th>\n",
       "      <th>Volume</th>\n",
       "      <th>Dividends</th>\n",
       "      <th>Stock Splits</th>\n",
       "    </tr>\n",
       "    <tr>\n",
       "      <th>Symbol</th>\n",
       "      <th>Date</th>\n",
       "      <th></th>\n",
       "      <th></th>\n",
       "      <th></th>\n",
       "      <th></th>\n",
       "      <th></th>\n",
       "      <th></th>\n",
       "      <th></th>\n",
       "    </tr>\n",
       "  </thead>\n",
       "  <tbody>\n",
       "    <tr>\n",
       "      <th rowspan=\"2\" valign=\"top\">AA</th>\n",
       "      <th>1998-01-20</th>\n",
       "      <td>28.716094</td>\n",
       "      <td>29.547440</td>\n",
       "      <td>28.681454</td>\n",
       "      <td>29.530121</td>\n",
       "      <td>2176900.0</td>\n",
       "      <td>0.0</td>\n",
       "      <td>0.0</td>\n",
       "    </tr>\n",
       "    <tr>\n",
       "      <th>2021-01-14</th>\n",
       "      <td>25.000000</td>\n",
       "      <td>25.379999</td>\n",
       "      <td>24.850000</td>\n",
       "      <td>25.090000</td>\n",
       "      <td>3988400.0</td>\n",
       "      <td>0.0</td>\n",
       "      <td>0.0</td>\n",
       "    </tr>\n",
       "    <tr>\n",
       "      <th rowspan=\"2\" valign=\"top\">AXP</th>\n",
       "      <th>1998-01-20</th>\n",
       "      <td>17.604445</td>\n",
       "      <td>17.765462</td>\n",
       "      <td>17.537355</td>\n",
       "      <td>17.698372</td>\n",
       "      <td>4635200.0</td>\n",
       "      <td>0.0</td>\n",
       "      <td>0.0</td>\n",
       "    </tr>\n",
       "    <tr>\n",
       "      <th>2021-01-14</th>\n",
       "      <td>122.650002</td>\n",
       "      <td>124.500000</td>\n",
       "      <td>122.089996</td>\n",
       "      <td>123.779999</td>\n",
       "      <td>3404200.0</td>\n",
       "      <td>0.0</td>\n",
       "      <td>0.0</td>\n",
       "    </tr>\n",
       "    <tr>\n",
       "      <th>BA</th>\n",
       "      <th>1998-01-20</th>\n",
       "      <td>27.111473</td>\n",
       "      <td>27.618594</td>\n",
       "      <td>26.721380</td>\n",
       "      <td>27.150482</td>\n",
       "      <td>7730300.0</td>\n",
       "      <td>0.0</td>\n",
       "      <td>0.0</td>\n",
       "    </tr>\n",
       "    <tr>\n",
       "      <th>...</th>\n",
       "      <th>...</th>\n",
       "      <td>...</td>\n",
       "      <td>...</td>\n",
       "      <td>...</td>\n",
       "      <td>...</td>\n",
       "      <td>...</td>\n",
       "      <td>...</td>\n",
       "      <td>...</td>\n",
       "    </tr>\n",
       "    <tr>\n",
       "      <th>UK</th>\n",
       "      <th>2021-01-14</th>\n",
       "      <td>NaN</td>\n",
       "      <td>NaN</td>\n",
       "      <td>NaN</td>\n",
       "      <td>NaN</td>\n",
       "      <td>NaN</td>\n",
       "      <td>NaN</td>\n",
       "      <td>NaN</td>\n",
       "    </tr>\n",
       "    <tr>\n",
       "      <th rowspan=\"2\" valign=\"top\">WMT</th>\n",
       "      <th>1998-01-20</th>\n",
       "      <td>13.316331</td>\n",
       "      <td>14.115731</td>\n",
       "      <td>13.316331</td>\n",
       "      <td>14.052621</td>\n",
       "      <td>7682800.0</td>\n",
       "      <td>0.0</td>\n",
       "      <td>0.0</td>\n",
       "    </tr>\n",
       "    <tr>\n",
       "      <th>2021-01-14</th>\n",
       "      <td>147.820007</td>\n",
       "      <td>148.000000</td>\n",
       "      <td>146.039993</td>\n",
       "      <td>146.970001</td>\n",
       "      <td>7654400.0</td>\n",
       "      <td>0.0</td>\n",
       "      <td>0.0</td>\n",
       "    </tr>\n",
       "    <tr>\n",
       "      <th rowspan=\"2\" valign=\"top\">XOM</th>\n",
       "      <th>1998-01-20</th>\n",
       "      <td>15.468195</td>\n",
       "      <td>15.611567</td>\n",
       "      <td>15.372614</td>\n",
       "      <td>15.515985</td>\n",
       "      <td>6348000.0</td>\n",
       "      <td>0.0</td>\n",
       "      <td>0.0</td>\n",
       "    </tr>\n",
       "    <tr>\n",
       "      <th>2021-01-14</th>\n",
       "      <td>48.500000</td>\n",
       "      <td>51.080002</td>\n",
       "      <td>48.500000</td>\n",
       "      <td>50.310001</td>\n",
       "      <td>35429400.0</td>\n",
       "      <td>0.0</td>\n",
       "      <td>0.0</td>\n",
       "    </tr>\n",
       "  </tbody>\n",
       "</table>\n",
       "<p>63 rows × 7 columns</p>\n",
       "</div>"
      ],
      "text/plain": [
       "                         Open        High         Low       Close      Volume  \\\n",
       "Symbol Date                                                                     \n",
       "AA     1998-01-20   28.716094   29.547440   28.681454   29.530121   2176900.0   \n",
       "       2021-01-14   25.000000   25.379999   24.850000   25.090000   3988400.0   \n",
       "AXP    1998-01-20   17.604445   17.765462   17.537355   17.698372   4635200.0   \n",
       "       2021-01-14  122.650002  124.500000  122.089996  123.779999   3404200.0   \n",
       "BA     1998-01-20   27.111473   27.618594   26.721380   27.150482   7730300.0   \n",
       "...                       ...         ...         ...         ...         ...   \n",
       "UK     2021-01-14         NaN         NaN         NaN         NaN         NaN   \n",
       "WMT    1998-01-20   13.316331   14.115731   13.316331   14.052621   7682800.0   \n",
       "       2021-01-14  147.820007  148.000000  146.039993  146.970001   7654400.0   \n",
       "XOM    1998-01-20   15.468195   15.611567   15.372614   15.515985   6348000.0   \n",
       "       2021-01-14   48.500000   51.080002   48.500000   50.310001  35429400.0   \n",
       "\n",
       "                   Dividends  Stock Splits  \n",
       "Symbol Date                                 \n",
       "AA     1998-01-20        0.0           0.0  \n",
       "       2021-01-14        0.0           0.0  \n",
       "AXP    1998-01-20        0.0           0.0  \n",
       "       2021-01-14        0.0           0.0  \n",
       "BA     1998-01-20        0.0           0.0  \n",
       "...                      ...           ...  \n",
       "UK     2021-01-14        NaN           NaN  \n",
       "WMT    1998-01-20        0.0           0.0  \n",
       "       2021-01-14        0.0           0.0  \n",
       "XOM    1998-01-20        0.0           0.0  \n",
       "       2021-01-14        0.0           0.0  \n",
       "\n",
       "[63 rows x 7 columns]"
      ]
     },
     "execution_count": 257,
     "metadata": {},
     "output_type": "execute_result"
    }
   ],
   "source": [
    "pd.read_csv(\"data/dow.csv\", index_col=[0,1])"
   ]
  }
 ],
 "metadata": {
  "kernelspec": {
   "display_name": "ivld-venv",
   "language": "python",
   "name": "ivld-venv"
  },
  "language_info": {
   "codemirror_mode": {
    "name": "ipython",
    "version": 3
   },
   "file_extension": ".py",
   "mimetype": "text/x-python",
   "name": "python",
   "nbconvert_exporter": "python",
   "pygments_lexer": "ipython3",
   "version": "3.8.5"
  }
 },
 "nbformat": 4,
 "nbformat_minor": 4
}
