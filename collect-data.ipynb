{
 "cells": [
  {
   "cell_type": "markdown",
   "metadata": {},
   "source": [
    "# Collecting Data\n",
    "I will use the yahoo finance API to get the start and end price for our benchmark, DIA. DIA is the oldest Dow Jones mutual fund. Yahoo finance has data going back to 1998 for this fund. We will get the prices for the components of the Dow Jones circa 1997 (as determined from [this wikipedia article](https://en.wikipedia.org/wiki/Historical_components_of_the_Dow_Jones_Industrial_Average)) for the same time period as our benchmark.\n",
    "\n",
    "I will keep transformation and cleaning to a minimum during the collection phase."
   ]
  },
  {
   "cell_type": "code",
   "execution_count": 5,
   "metadata": {},
   "outputs": [],
   "source": [
    "import datetime as dt\n",
    "import yfinance as yf\n",
    "import pandas as pd\n",
    "import json\n",
    "import os\n",
    "from time import sleep"
   ]
  },
  {
   "cell_type": "markdown",
   "metadata": {},
   "source": [
    "Setup directories if necessary"
   ]
  },
  {
   "cell_type": "code",
   "execution_count": 12,
   "metadata": {},
   "outputs": [
    {
     "name": "stdout",
     "output_type": "stream",
     "text": [
      "[WinError 183] Cannot create a file when that file already exists: 'data/raw'\n"
     ]
    }
   ],
   "source": [
    "try:\n",
    "    os.makedirs(\"data/raw\") \n",
    "except FileExistsError as e:\n",
    "    print(e)"
   ]
  },
  {
   "cell_type": "markdown",
   "metadata": {},
   "source": [
    "## Get DIA History"
   ]
  },
  {
   "cell_type": "code",
   "execution_count": 13,
   "metadata": {},
   "outputs": [],
   "source": [
    "def max_start_and_end_data_for(symbol):\n",
    "    df = yf.Ticker(symbol).history(period=\"max\").iloc[[0, -1]]\n",
    "    return add_symbol_as_top_index(df, symbol)\n",
    "\n",
    "def add_symbol_as_top_index(df, symbol):\n",
    "    return pd.concat({f'{symbol}': df}, names=['Symbol'])"
   ]
  },
  {
   "cell_type": "markdown",
   "metadata": {},
   "source": [
    "This retrieves the start and end data for DIA and saves it locally.\n",
    "\n",
    "Set `force` to `True` to run."
   ]
  },
  {
   "cell_type": "code",
   "execution_count": 41,
   "metadata": {},
   "outputs": [],
   "source": [
    "force = False\n",
    "\n",
    "if force:\n",
    "    dia_history = max_start_and_end_data_for(\"DIA\")\n",
    "    dia_history.to_pickle(\"data/raw/DIA.pickle\")"
   ]
  },
  {
   "cell_type": "markdown",
   "metadata": {},
   "source": [
    "Loads DIA history"
   ]
  },
  {
   "cell_type": "code",
   "execution_count": 6,
   "metadata": {},
   "outputs": [
    {
     "data": {
      "text/html": [
       "<div>\n",
       "<style scoped>\n",
       "    .dataframe tbody tr th:only-of-type {\n",
       "        vertical-align: middle;\n",
       "    }\n",
       "\n",
       "    .dataframe tbody tr th {\n",
       "        vertical-align: top;\n",
       "    }\n",
       "\n",
       "    .dataframe thead th {\n",
       "        text-align: right;\n",
       "    }\n",
       "</style>\n",
       "<table border=\"1\" class=\"dataframe\">\n",
       "  <thead>\n",
       "    <tr style=\"text-align: right;\">\n",
       "      <th></th>\n",
       "      <th></th>\n",
       "      <th>Open</th>\n",
       "      <th>High</th>\n",
       "      <th>Low</th>\n",
       "      <th>Close</th>\n",
       "      <th>Volume</th>\n",
       "      <th>Dividends</th>\n",
       "      <th>Stock Splits</th>\n",
       "    </tr>\n",
       "    <tr>\n",
       "      <th>Symbol</th>\n",
       "      <th>Date</th>\n",
       "      <th></th>\n",
       "      <th></th>\n",
       "      <th></th>\n",
       "      <th></th>\n",
       "      <th></th>\n",
       "      <th></th>\n",
       "      <th></th>\n",
       "    </tr>\n",
       "  </thead>\n",
       "  <tbody>\n",
       "    <tr>\n",
       "      <th rowspan=\"2\" valign=\"top\">DIA</th>\n",
       "      <th>1998-01-20</th>\n",
       "      <td>47.228395</td>\n",
       "      <td>47.854313</td>\n",
       "      <td>46.981821</td>\n",
       "      <td>47.835346</td>\n",
       "      <td>1744600</td>\n",
       "      <td>0.0</td>\n",
       "      <td>0</td>\n",
       "    </tr>\n",
       "    <tr>\n",
       "      <th>2021-01-14</th>\n",
       "      <td>310.630005</td>\n",
       "      <td>312.268311</td>\n",
       "      <td>310.130005</td>\n",
       "      <td>310.720001</td>\n",
       "      <td>1787230</td>\n",
       "      <td>0.0</td>\n",
       "      <td>0</td>\n",
       "    </tr>\n",
       "  </tbody>\n",
       "</table>\n",
       "</div>"
      ],
      "text/plain": [
       "                         Open        High         Low       Close   Volume  \\\n",
       "Symbol Date                                                                  \n",
       "DIA    1998-01-20   47.228395   47.854313   46.981821   47.835346  1744600   \n",
       "       2021-01-14  310.630005  312.268311  310.130005  310.720001  1787230   \n",
       "\n",
       "                   Dividends  Stock Splits  \n",
       "Symbol Date                                 \n",
       "DIA    1998-01-20        0.0             0  \n",
       "       2021-01-14        0.0             0  "
      ]
     },
     "execution_count": 6,
     "metadata": {},
     "output_type": "execute_result"
    }
   ],
   "source": [
    "dia_history = pd.read_pickle(\"data/raw/DIA.pickle\")\n",
    "dia_history"
   ]
  },
  {
   "cell_type": "markdown",
   "metadata": {},
   "source": [
    "## Get History for Dow Companies"
   ]
  },
  {
   "cell_type": "code",
   "execution_count": 7,
   "metadata": {},
   "outputs": [],
   "source": [
    "def dow_symbols(path):\n",
    "    with open(f'{path}.json', 'r') as fp:\n",
    "        symbols = json.load(fp)\n",
    "    return [list(k.keys())[0] for k in symbols]\n",
    "\n",
    "def start_and_end_data_for(symbol, start_timestamp, end_timestamp):\n",
    "    start_end_timestamp = start_timestamp + dt.timedelta(days=1)\n",
    "    end_end_timestamp = end_timestamp + dt.timedelta(days=1)\n",
    "    \n",
    "    start = yf.Ticker(symbol).history(start=start_timestamp, end=start_end_timestamp)\n",
    "    end = yf.Ticker(symbol).history(start=end_timestamp, end=end_end_timestamp)\n",
    "    \n",
    "    return(pd.concat([start, end]))"
   ]
  },
  {
   "cell_type": "markdown",
   "metadata": {},
   "source": [
    "Here we get the individual stocks in the Dow Jones based according to `data/dow-symbols` and the time period established by our benchmark, DIA and pickle them.\n",
    "\n",
    "Set `force` to `True` to run."
   ]
  },
  {
   "cell_type": "code",
   "execution_count": 35,
   "metadata": {},
   "outputs": [],
   "source": [
    "force = False\n",
    "\n",
    "if force:\n",
    "    dow_sym = dow_symbols(\"data/dow-symbols\")\n",
    "    start_timestamp = dia_history.index[0][1]\n",
    "    end_timestamp = dia_history.index[1][1]\n",
    "\n",
    "    for s in dow_sym:\n",
    "        df = start_and_end_data_for(s, start_timestamp, end_timestamp)\n",
    "        combined = add_symbol_as_top_index(df, s)\n",
    "        combined.to_pickle(f\"data/raw/{s}.pickle\")\n",
    "        sleep(0.6)"
   ]
  },
  {
   "cell_type": "markdown",
   "metadata": {},
   "source": [
    "Loads the dataframes from file and combines everything into a single `data/dow.csv`"
   ]
  },
  {
   "cell_type": "code",
   "execution_count": 36,
   "metadata": {},
   "outputs": [],
   "source": [
    "pickles = [f for f in os.listdir(\"data/raw\")]\n",
    "dataframes = [pd.read_pickle(f\"data/raw/{p}\") for p in pickles]\n",
    "df_combined = pd.concat(dataframes)\n",
    "df_combined.to_csv(\"data/dow.csv\")"
   ]
  },
  {
   "cell_type": "markdown",
   "metadata": {},
   "source": [
    "Elsewhere, we can load our data from csv like so:"
   ]
  },
  {
   "cell_type": "code",
   "execution_count": 14,
   "metadata": {},
   "outputs": [
    {
     "data": {
      "text/html": [
       "<div>\n",
       "<style scoped>\n",
       "    .dataframe tbody tr th:only-of-type {\n",
       "        vertical-align: middle;\n",
       "    }\n",
       "\n",
       "    .dataframe tbody tr th {\n",
       "        vertical-align: top;\n",
       "    }\n",
       "\n",
       "    .dataframe thead th {\n",
       "        text-align: right;\n",
       "    }\n",
       "</style>\n",
       "<table border=\"1\" class=\"dataframe\">\n",
       "  <thead>\n",
       "    <tr style=\"text-align: right;\">\n",
       "      <th></th>\n",
       "      <th></th>\n",
       "      <th>Open</th>\n",
       "      <th>High</th>\n",
       "      <th>Low</th>\n",
       "      <th>Close</th>\n",
       "      <th>Volume</th>\n",
       "      <th>Dividends</th>\n",
       "      <th>Stock Splits</th>\n",
       "      <th>Adj Close</th>\n",
       "    </tr>\n",
       "    <tr>\n",
       "      <th>Symbol</th>\n",
       "      <th>Date</th>\n",
       "      <th></th>\n",
       "      <th></th>\n",
       "      <th></th>\n",
       "      <th></th>\n",
       "      <th></th>\n",
       "      <th></th>\n",
       "      <th></th>\n",
       "      <th></th>\n",
       "    </tr>\n",
       "  </thead>\n",
       "  <tbody>\n",
       "    <tr>\n",
       "      <th rowspan=\"2\" valign=\"top\">AA</th>\n",
       "      <th>1998-01-20</th>\n",
       "      <td>28.716094</td>\n",
       "      <td>29.547440</td>\n",
       "      <td>28.681454</td>\n",
       "      <td>29.530121</td>\n",
       "      <td>2176900.0</td>\n",
       "      <td>0.0</td>\n",
       "      <td>0.0</td>\n",
       "      <td>NaN</td>\n",
       "    </tr>\n",
       "    <tr>\n",
       "      <th>2021-01-14</th>\n",
       "      <td>25.000000</td>\n",
       "      <td>25.379999</td>\n",
       "      <td>24.850100</td>\n",
       "      <td>25.090000</td>\n",
       "      <td>3948281.0</td>\n",
       "      <td>0.0</td>\n",
       "      <td>0.0</td>\n",
       "      <td>NaN</td>\n",
       "    </tr>\n",
       "    <tr>\n",
       "      <th rowspan=\"2\" valign=\"top\">AIG</th>\n",
       "      <th>1998-01-20</th>\n",
       "      <td>482.618128</td>\n",
       "      <td>486.123816</td>\n",
       "      <td>476.775276</td>\n",
       "      <td>485.831665</td>\n",
       "      <td>207900.0</td>\n",
       "      <td>0.0</td>\n",
       "      <td>0.0</td>\n",
       "      <td>NaN</td>\n",
       "    </tr>\n",
       "    <tr>\n",
       "      <th>2021-01-14</th>\n",
       "      <td>41.000000</td>\n",
       "      <td>41.448101</td>\n",
       "      <td>40.680000</td>\n",
       "      <td>41.299999</td>\n",
       "      <td>3873888.0</td>\n",
       "      <td>0.0</td>\n",
       "      <td>0.0</td>\n",
       "      <td>NaN</td>\n",
       "    </tr>\n",
       "    <tr>\n",
       "      <th>AXP</th>\n",
       "      <th>1998-01-20</th>\n",
       "      <td>17.604445</td>\n",
       "      <td>17.765462</td>\n",
       "      <td>17.537355</td>\n",
       "      <td>17.698372</td>\n",
       "      <td>4635200.0</td>\n",
       "      <td>0.0</td>\n",
       "      <td>0.0</td>\n",
       "      <td>NaN</td>\n",
       "    </tr>\n",
       "    <tr>\n",
       "      <th>...</th>\n",
       "      <th>...</th>\n",
       "      <td>...</td>\n",
       "      <td>...</td>\n",
       "      <td>...</td>\n",
       "      <td>...</td>\n",
       "      <td>...</td>\n",
       "      <td>...</td>\n",
       "      <td>...</td>\n",
       "      <td>...</td>\n",
       "    </tr>\n",
       "    <tr>\n",
       "      <th>VZ</th>\n",
       "      <th>2021-01-14</th>\n",
       "      <td>56.889999</td>\n",
       "      <td>57.424999</td>\n",
       "      <td>56.660000</td>\n",
       "      <td>57.040001</td>\n",
       "      <td>17987541.0</td>\n",
       "      <td>0.0</td>\n",
       "      <td>0.0</td>\n",
       "      <td>NaN</td>\n",
       "    </tr>\n",
       "    <tr>\n",
       "      <th rowspan=\"2\" valign=\"top\">WMT</th>\n",
       "      <th>1998-01-20</th>\n",
       "      <td>13.316331</td>\n",
       "      <td>14.115731</td>\n",
       "      <td>13.316331</td>\n",
       "      <td>14.052621</td>\n",
       "      <td>7682800.0</td>\n",
       "      <td>0.0</td>\n",
       "      <td>0.0</td>\n",
       "      <td>NaN</td>\n",
       "    </tr>\n",
       "    <tr>\n",
       "      <th>2021-01-14</th>\n",
       "      <td>147.820007</td>\n",
       "      <td>148.000000</td>\n",
       "      <td>146.035004</td>\n",
       "      <td>146.970001</td>\n",
       "      <td>6749975.0</td>\n",
       "      <td>0.0</td>\n",
       "      <td>0.0</td>\n",
       "      <td>NaN</td>\n",
       "    </tr>\n",
       "    <tr>\n",
       "      <th rowspan=\"2\" valign=\"top\">XOM</th>\n",
       "      <th>1998-01-20</th>\n",
       "      <td>15.468195</td>\n",
       "      <td>15.611567</td>\n",
       "      <td>15.372614</td>\n",
       "      <td>15.515985</td>\n",
       "      <td>6348000.0</td>\n",
       "      <td>0.0</td>\n",
       "      <td>0.0</td>\n",
       "      <td>NaN</td>\n",
       "    </tr>\n",
       "    <tr>\n",
       "      <th>2021-01-14</th>\n",
       "      <td>48.500000</td>\n",
       "      <td>51.080002</td>\n",
       "      <td>48.500000</td>\n",
       "      <td>50.310001</td>\n",
       "      <td>34741787.0</td>\n",
       "      <td>0.0</td>\n",
       "      <td>0.0</td>\n",
       "      <td>NaN</td>\n",
       "    </tr>\n",
       "  </tbody>\n",
       "</table>\n",
       "<p>62 rows × 8 columns</p>\n",
       "</div>"
      ],
      "text/plain": [
       "                         Open        High         Low       Close      Volume  \\\n",
       "Symbol Date                                                                     \n",
       "AA     1998-01-20   28.716094   29.547440   28.681454   29.530121   2176900.0   \n",
       "       2021-01-14   25.000000   25.379999   24.850100   25.090000   3948281.0   \n",
       "AIG    1998-01-20  482.618128  486.123816  476.775276  485.831665    207900.0   \n",
       "       2021-01-14   41.000000   41.448101   40.680000   41.299999   3873888.0   \n",
       "AXP    1998-01-20   17.604445   17.765462   17.537355   17.698372   4635200.0   \n",
       "...                       ...         ...         ...         ...         ...   \n",
       "VZ     2021-01-14   56.889999   57.424999   56.660000   57.040001  17987541.0   \n",
       "WMT    1998-01-20   13.316331   14.115731   13.316331   14.052621   7682800.0   \n",
       "       2021-01-14  147.820007  148.000000  146.035004  146.970001   6749975.0   \n",
       "XOM    1998-01-20   15.468195   15.611567   15.372614   15.515985   6348000.0   \n",
       "       2021-01-14   48.500000   51.080002   48.500000   50.310001  34741787.0   \n",
       "\n",
       "                   Dividends  Stock Splits  Adj Close  \n",
       "Symbol Date                                            \n",
       "AA     1998-01-20        0.0           0.0        NaN  \n",
       "       2021-01-14        0.0           0.0        NaN  \n",
       "AIG    1998-01-20        0.0           0.0        NaN  \n",
       "       2021-01-14        0.0           0.0        NaN  \n",
       "AXP    1998-01-20        0.0           0.0        NaN  \n",
       "...                      ...           ...        ...  \n",
       "VZ     2021-01-14        0.0           0.0        NaN  \n",
       "WMT    1998-01-20        0.0           0.0        NaN  \n",
       "       2021-01-14        0.0           0.0        NaN  \n",
       "XOM    1998-01-20        0.0           0.0        NaN  \n",
       "       2021-01-14        0.0           0.0        NaN  \n",
       "\n",
       "[62 rows x 8 columns]"
      ]
     },
     "execution_count": 14,
     "metadata": {},
     "output_type": "execute_result"
    }
   ],
   "source": [
    "pd.read_csv(\"data/dow.csv\", index_col=[0,1])"
   ]
  }
 ],
 "metadata": {
  "kernelspec": {
   "display_name": "ivld-venv",
   "language": "python",
   "name": "ivld-venv"
  },
  "language_info": {
   "codemirror_mode": {
    "name": "ipython",
    "version": 3
   },
   "file_extension": ".py",
   "mimetype": "text/x-python",
   "name": "python",
   "nbconvert_exporter": "python",
   "pygments_lexer": "ipython3",
   "version": "3.8.5"
  }
 },
 "nbformat": 4,
 "nbformat_minor": 4
}
