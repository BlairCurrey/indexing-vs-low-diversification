{
 "cells": [
  {
   "cell_type": "markdown",
   "metadata": {},
   "source": [
    "# Analysis"
   ]
  },
  {
   "cell_type": "code",
   "execution_count": 1,
   "metadata": {},
   "outputs": [],
   "source": [
    "from common import *\n",
    "import matplotlib.pyplot as plt\n",
    "pd.set_option('display.max_rows', 70)"
   ]
  },
  {
   "cell_type": "code",
   "execution_count": 13,
   "metadata": {},
   "outputs": [
    {
     "name": "stdout",
     "output_type": "stream",
     "text": [
      "startPipeline:\n",
      "  runtime=0:00:00, end shape=(63, 7)\n",
      "clean:\n",
      "  runtime=0:00:00.001998, end shape=(62, 7)\n",
      "trim:\n",
      "  runtime=0:00:00.001000, end shape=(62, 1)\n",
      "flatten_date:\n",
      "  runtime=0:00:00.010006, end shape=(31, 4)\n",
      "removeOutliers:\n",
      "  runtime=0:00:00, end shape=(31, 4)\n",
      "add_percent_change:\n",
      "  runtime=0:00:00.002001, end shape=(31, 5)\n"
     ]
    },
    {
     "data": {
      "text/html": [
       "<div>\n",
       "<style scoped>\n",
       "    .dataframe tbody tr th:only-of-type {\n",
       "        vertical-align: middle;\n",
       "    }\n",
       "\n",
       "    .dataframe tbody tr th {\n",
       "        vertical-align: top;\n",
       "    }\n",
       "\n",
       "    .dataframe thead th {\n",
       "        text-align: right;\n",
       "    }\n",
       "</style>\n",
       "<table border=\"1\" class=\"dataframe\">\n",
       "  <thead>\n",
       "    <tr style=\"text-align: right;\">\n",
       "      <th></th>\n",
       "      <th>Start Date</th>\n",
       "      <th>End Date</th>\n",
       "      <th>Start Close</th>\n",
       "      <th>End Close</th>\n",
       "      <th>Percent Change</th>\n",
       "    </tr>\n",
       "    <tr>\n",
       "      <th>Symbol</th>\n",
       "      <th></th>\n",
       "      <th></th>\n",
       "      <th></th>\n",
       "      <th></th>\n",
       "      <th></th>\n",
       "    </tr>\n",
       "  </thead>\n",
       "  <tbody>\n",
       "    <tr>\n",
       "      <th>AA</th>\n",
       "      <td>1998-01-20</td>\n",
       "      <td>2021-01-14</td>\n",
       "      <td>29.530121</td>\n",
       "      <td>25.090000</td>\n",
       "      <td>-15.035904</td>\n",
       "    </tr>\n",
       "    <tr>\n",
       "      <th>AXP</th>\n",
       "      <td>1998-01-20</td>\n",
       "      <td>2021-01-14</td>\n",
       "      <td>17.698372</td>\n",
       "      <td>123.779999</td>\n",
       "      <td>599.386359</td>\n",
       "    </tr>\n",
       "    <tr>\n",
       "      <th>BA</th>\n",
       "      <td>1998-01-20</td>\n",
       "      <td>2021-01-14</td>\n",
       "      <td>27.150482</td>\n",
       "      <td>209.910004</td>\n",
       "      <td>673.135454</td>\n",
       "    </tr>\n",
       "    <tr>\n",
       "      <th>CAT</th>\n",
       "      <td>1998-01-20</td>\n",
       "      <td>2021-01-14</td>\n",
       "      <td>9.994546</td>\n",
       "      <td>197.399994</td>\n",
       "      <td>1875.077159</td>\n",
       "    </tr>\n",
       "    <tr>\n",
       "      <th>COKE</th>\n",
       "      <td>1998-01-20</td>\n",
       "      <td>2021-01-14</td>\n",
       "      <td>42.274349</td>\n",
       "      <td>258.570007</td>\n",
       "      <td>511.647517</td>\n",
       "    </tr>\n",
       "    <tr>\n",
       "      <th>...</th>\n",
       "      <td>...</td>\n",
       "      <td>...</td>\n",
       "      <td>...</td>\n",
       "      <td>...</td>\n",
       "      <td>...</td>\n",
       "    </tr>\n",
       "    <tr>\n",
       "      <th>T</th>\n",
       "      <td>1998-01-20</td>\n",
       "      <td>2021-01-14</td>\n",
       "      <td>12.724303</td>\n",
       "      <td>29.290001</td>\n",
       "      <td>130.189428</td>\n",
       "    </tr>\n",
       "    <tr>\n",
       "      <th>TRV</th>\n",
       "      <td>1998-01-20</td>\n",
       "      <td>2021-01-14</td>\n",
       "      <td>23.375343</td>\n",
       "      <td>142.320007</td>\n",
       "      <td>508.846704</td>\n",
       "    </tr>\n",
       "    <tr>\n",
       "      <th>UK</th>\n",
       "      <td>1998-01-20</td>\n",
       "      <td>2021-01-14</td>\n",
       "      <td>NaN</td>\n",
       "      <td>NaN</td>\n",
       "      <td>NaN</td>\n",
       "    </tr>\n",
       "    <tr>\n",
       "      <th>WMT</th>\n",
       "      <td>1998-01-20</td>\n",
       "      <td>2021-01-14</td>\n",
       "      <td>14.052621</td>\n",
       "      <td>146.970001</td>\n",
       "      <td>945.854737</td>\n",
       "    </tr>\n",
       "    <tr>\n",
       "      <th>XOM</th>\n",
       "      <td>1998-01-20</td>\n",
       "      <td>2021-01-14</td>\n",
       "      <td>15.515985</td>\n",
       "      <td>50.310001</td>\n",
       "      <td>224.246252</td>\n",
       "    </tr>\n",
       "  </tbody>\n",
       "</table>\n",
       "<p>31 rows × 5 columns</p>\n",
       "</div>"
      ],
      "text/plain": [
       "        Start Date    End Date  Start Close   End Close  Percent Change\n",
       "Symbol                                                                 \n",
       "AA      1998-01-20  2021-01-14    29.530121   25.090000      -15.035904\n",
       "AXP     1998-01-20  2021-01-14    17.698372  123.779999      599.386359\n",
       "BA      1998-01-20  2021-01-14    27.150482  209.910004      673.135454\n",
       "CAT     1998-01-20  2021-01-14     9.994546  197.399994     1875.077159\n",
       "COKE    1998-01-20  2021-01-14    42.274349  258.570007      511.647517\n",
       "...            ...         ...          ...         ...             ...\n",
       "T       1998-01-20  2021-01-14    12.724303   29.290001      130.189428\n",
       "TRV     1998-01-20  2021-01-14    23.375343  142.320007      508.846704\n",
       "UK      1998-01-20  2021-01-14          NaN         NaN             NaN\n",
       "WMT     1998-01-20  2021-01-14    14.052621  146.970001      945.854737\n",
       "XOM     1998-01-20  2021-01-14    15.515985   50.310001      224.246252\n",
       "\n",
       "[31 rows x 5 columns]"
      ]
     },
     "execution_count": 13,
     "metadata": {},
     "output_type": "execute_result"
    }
   ],
   "source": [
    "df = pd.read_csv(\"data/dow.csv\", index_col=[0,1])\n",
    "\n",
    "df_processed = (df\n",
    " .pipe(startPipeline)\n",
    " .pipe(clean)\n",
    " .pipe(trim)\n",
    " .pipe(flatten_date)\n",
    " .pipe(removeOutliers)\n",
    " .pipe(add_percent_change)\n",
    ")\n",
    "\n",
    "df_processed"
   ]
  },
  {
   "cell_type": "markdown",
   "metadata": {},
   "source": [
    "## Benchmark: DIA"
   ]
  },
  {
   "cell_type": "code",
   "execution_count": 14,
   "metadata": {},
   "outputs": [
    {
     "name": "stdout",
     "output_type": "stream",
     "text": [
      "The Dow Jones has risen 549.561518336611 from 1998-01-20 to 1998-01-20\n"
     ]
    }
   ],
   "source": [
    "def benchmark_percent_change(df):\n",
    "    return df.loc[\"DIA\"][\"Percent Change\"]\n",
    "\n",
    "def print_benchmark_info(df):\n",
    "    dia_pct_change = benchmark_percent_change(df)\n",
    "    print(f\"The Dow Jones has risen {dia_pct_change} from \" \\\n",
    "          f\"{df.loc['DIA']['Start Date']} to {df.loc['DIA']['Start Date']}\")\n",
    "\n",
    "print_benchmark_info(df_processed)"
   ]
  },
  {
   "cell_type": "markdown",
   "metadata": {},
   "source": [
    "## Percent of Individual Dow Companies that Outperformed DIA"
   ]
  },
  {
   "cell_type": "code",
   "execution_count": 10,
   "metadata": {},
   "outputs": [
    {
     "name": "stdout",
     "output_type": "stream",
     "text": [
      "43.33% performed better than DIA (13/30)\n",
      "906.90% was the average percent change for the outperformers\n",
      "Outperformers:\n",
      "['AXP', 'BA', 'CAT', 'CVX', 'DIS', 'HON', 'JNJ', 'JPM', 'MCD', 'MMM', 'MO', 'RTX', 'WMT']\n"
     ]
    }
   ],
   "source": [
    "def outperformers(df):\n",
    "    return df[df[\"Percent Change\"] > benchmark_percent_change(df)]\n",
    "\n",
    "def underperformers(df):\n",
    "    return df[df[\"Percent Change\"] < benchmark_percent_change(df)]\n",
    "\n",
    "def print_outperformers_info(df):\n",
    "    total_companies = len(df) - 1 # exclude DIA\n",
    "    df_outperform = outperformers(df)\n",
    "    total_above_dia = len(df_outperform)\n",
    "    \n",
    "    float_string = \"%.2f\" % (total_above_dia/total_companies * 100)\n",
    "    avg_outperform_string = \"%.2f\" % df_outperform['Percent Change'].mean()\n",
    "    \n",
    "    print(f\"{float_string}% performed better than DIA ({total_above_dia}/{total_companies})\")\n",
    "    print(f\"{avg_outperform_string}% was the average percent change for the outperformers\")\n",
    "    print(f\"Outperformers:\\n{df_outperform.index.to_list()}\")\n",
    "    \n",
    "print_outperformers_info(df_processed)"
   ]
  },
  {
   "cell_type": "code",
   "execution_count": 15,
   "metadata": {},
   "outputs": [
    {
     "data": {
      "text/plain": [
       "(array([3., 5., 2., 4., 7., 0., 3., 0., 2., 0., 0., 1.]),\n",
       " array([ -75.08914329,   87.42471519,  249.93857368,  412.45243217,\n",
       "         574.96629066,  737.48014915,  899.99400764, 1062.50786613,\n",
       "        1225.02172462, 1387.53558311, 1550.04944159, 1712.56330008,\n",
       "        1875.07715857]),\n",
       " <BarContainer object of 12 artists>)"
      ]
     },
     "execution_count": 15,
     "metadata": {},
     "output_type": "execute_result"
    },
    {
     "data": {
      "image/png": "[encoded data removed]",
      "text/plain": [
       "<Figure size 432x288 with 1 Axes>"
      ]
     },
     "metadata": {
      "needs_background": "light"
     },
     "output_type": "display_data"
    }
   ],
   "source": [
    "plt.hist(df_processed[\"Percent Change\"], bins = 12)"
   ]
  }
 ],
 "metadata": {
  "kernelspec": {
   "display_name": "ivld-venv",
   "language": "python",
   "name": "ivld-venv"
  },
  "language_info": {
   "codemirror_mode": {
    "name": "ipython",
    "version": 3
   },
   "file_extension": ".py",
   "mimetype": "text/x-python",
   "name": "python",
   "nbconvert_exporter": "python",
   "pygments_lexer": "ipython3",
   "version": "3.8.5"
  }
 },
 "nbformat": 4,
 "nbformat_minor": 4
}
