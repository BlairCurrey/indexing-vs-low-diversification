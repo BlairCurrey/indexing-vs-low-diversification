{
 "cells": [
  {
   "cell_type": "markdown",
   "metadata": {},
   "source": [
    "# Analysis"
   ]
  },
  {
   "cell_type": "code",
   "execution_count": 35,
   "metadata": {},
   "outputs": [],
   "source": [
    "from common import *"
   ]
  },
  {
   "cell_type": "code",
   "execution_count": 36,
   "metadata": {},
   "outputs": [
    {
     "name": "stdout",
     "output_type": "stream",
     "text": [
      "startPipeline:\n",
      "  runtime=0:00:00, end shape=(62, 8)\n",
      "clean:\n",
      "  runtime=0:00:00.003038, end shape=(61, 8)\n",
      "trim:\n",
      "  runtime=0:00:00, end shape=(61, 1)\n",
      "flatten_date:\n",
      "  runtime=0:00:00.010002, end shape=(31, 2)\n",
      "removeOutliers:\n",
      "  runtime=0:00:00, end shape=(31, 2)\n",
      "add_percent_change:\n",
      "  runtime=0:00:00.000998, end shape=(31, 3)\n"
     ]
    },
    {
     "data": {
      "text/html": [
       "<div>\n",
       "<style scoped>\n",
       "    .dataframe tbody tr th:only-of-type {\n",
       "        vertical-align: middle;\n",
       "    }\n",
       "\n",
       "    .dataframe tbody tr th {\n",
       "        vertical-align: top;\n",
       "    }\n",
       "\n",
       "    .dataframe thead th {\n",
       "        text-align: right;\n",
       "    }\n",
       "</style>\n",
       "<table border=\"1\" class=\"dataframe\">\n",
       "  <thead>\n",
       "    <tr style=\"text-align: right;\">\n",
       "      <th></th>\n",
       "      <th>Start Close</th>\n",
       "      <th>End Close</th>\n",
       "      <th>Percent Change</th>\n",
       "    </tr>\n",
       "    <tr>\n",
       "      <th>Symbol</th>\n",
       "      <th></th>\n",
       "      <th></th>\n",
       "      <th></th>\n",
       "    </tr>\n",
       "  </thead>\n",
       "  <tbody>\n",
       "    <tr>\n",
       "      <th>AA</th>\n",
       "      <td>29.530121</td>\n",
       "      <td>25.090000</td>\n",
       "      <td>-15.035904</td>\n",
       "    </tr>\n",
       "    <tr>\n",
       "      <th>AIG</th>\n",
       "      <td>485.831665</td>\n",
       "      <td>41.299999</td>\n",
       "      <td>-91.499113</td>\n",
       "    </tr>\n",
       "    <tr>\n",
       "      <th>AXP</th>\n",
       "      <td>17.698372</td>\n",
       "      <td>123.779999</td>\n",
       "      <td>599.386359</td>\n",
       "    </tr>\n",
       "    <tr>\n",
       "      <th>BA</th>\n",
       "      <td>27.150482</td>\n",
       "      <td>209.910004</td>\n",
       "      <td>673.135454</td>\n",
       "    </tr>\n",
       "    <tr>\n",
       "      <th>C</th>\n",
       "      <td>155.078110</td>\n",
       "      <td>69.010002</td>\n",
       "      <td>-55.499843</td>\n",
       "    </tr>\n",
       "    <tr>\n",
       "      <th>...</th>\n",
       "      <td>...</td>\n",
       "      <td>...</td>\n",
       "      <td>...</td>\n",
       "    </tr>\n",
       "    <tr>\n",
       "      <th>RTX</th>\n",
       "      <td>7.088912</td>\n",
       "      <td>70.940002</td>\n",
       "      <td>900.717841</td>\n",
       "    </tr>\n",
       "    <tr>\n",
       "      <th>T</th>\n",
       "      <td>12.724303</td>\n",
       "      <td>29.290001</td>\n",
       "      <td>130.189428</td>\n",
       "    </tr>\n",
       "    <tr>\n",
       "      <th>VZ</th>\n",
       "      <td>14.957232</td>\n",
       "      <td>57.040001</td>\n",
       "      <td>281.353977</td>\n",
       "    </tr>\n",
       "    <tr>\n",
       "      <th>WMT</th>\n",
       "      <td>14.052621</td>\n",
       "      <td>146.970001</td>\n",
       "      <td>945.854737</td>\n",
       "    </tr>\n",
       "    <tr>\n",
       "      <th>XOM</th>\n",
       "      <td>15.515985</td>\n",
       "      <td>50.310001</td>\n",
       "      <td>224.246252</td>\n",
       "    </tr>\n",
       "  </tbody>\n",
       "</table>\n",
       "<p>31 rows × 3 columns</p>\n",
       "</div>"
      ],
      "text/plain": [
       "        Start Close   End Close  Percent Change\n",
       "Symbol                                         \n",
       "AA        29.530121   25.090000      -15.035904\n",
       "AIG      485.831665   41.299999      -91.499113\n",
       "AXP       17.698372  123.779999      599.386359\n",
       "BA        27.150482  209.910004      673.135454\n",
       "C        155.078110   69.010002      -55.499843\n",
       "...             ...         ...             ...\n",
       "RTX        7.088912   70.940002      900.717841\n",
       "T         12.724303   29.290001      130.189428\n",
       "VZ        14.957232   57.040001      281.353977\n",
       "WMT       14.052621  146.970001      945.854737\n",
       "XOM       15.515985   50.310001      224.246252\n",
       "\n",
       "[31 rows x 3 columns]"
      ]
     },
     "execution_count": 36,
     "metadata": {},
     "output_type": "execute_result"
    }
   ],
   "source": [
    "pd.set_option('display.max_rows', 10)\n",
    "\n",
    "df = pd.read_csv(\"data/dow.csv\", index_col=[0,1])\n",
    "start_date = df.index.get_level_values(1)[0]\n",
    "end_date = df.index.get_level_values(1)[1]\n",
    "\n",
    "df_processed = (df\n",
    " .pipe(startPipeline)\n",
    " .pipe(clean)\n",
    " .pipe(trim)\n",
    " .pipe(flatten_date)\n",
    " .pipe(removeOutliers)\n",
    " .pipe(add_percent_change)\n",
    ")\n",
    "df_processed"
   ]
  },
  {
   "cell_type": "markdown",
   "metadata": {},
   "source": [
    "## Benchmark: DIA"
   ]
  },
  {
   "cell_type": "code",
   "execution_count": 42,
   "metadata": {},
   "outputs": [
    {
     "name": "stdout",
     "output_type": "stream",
     "text": [
      "The Dow Jones has risen 549.561518336611 from 1998-01-20 to 2021-01-14\n"
     ]
    }
   ],
   "source": [
    "dia_pct_change = df_processed.loc[\"DIA\"][\"Percent Change\"]\n",
    "print(f\"The Dow Jones has risen {dia_pct_change} from {start_date} to {end_date}\")"
   ]
  },
  {
   "cell_type": "markdown",
   "metadata": {},
   "source": [
    "## Percent of Individual Dow Companies that Outperformed DIA"
   ]
  },
  {
   "cell_type": "code",
   "execution_count": 56,
   "metadata": {},
   "outputs": [
    {
     "name": "stdout",
     "output_type": "stream",
     "text": [
      "46.67% performed better than DIA (14/30)\n"
     ]
    }
   ],
   "source": [
    "total_companies = len(df_processed) - 1 # exclude DIA\n",
    "df_above = df_processed[df_processed[\"Percent Change\"] > dia_pct_change]\n",
    "total_above_dia = len(df_above)\n",
    "float_string = \"%.2f\" % (total_above_dia/total_companies * 100)\n",
    "print(f\"{float_string}% performed better than DIA ({total_above_dia}/{total_companies})\")"
   ]
  }
 ],
 "metadata": {
  "kernelspec": {
   "display_name": "ivld-venv",
   "language": "python",
   "name": "ivld-venv"
  },
  "language_info": {
   "codemirror_mode": {
    "name": "ipython",
    "version": 3
   },
   "file_extension": ".py",
   "mimetype": "text/x-python",
   "name": "python",
   "nbconvert_exporter": "python",
   "pygments_lexer": "ipython3",
   "version": "3.8.5"
  }
 },
 "nbformat": 4,
 "nbformat_minor": 4
}
