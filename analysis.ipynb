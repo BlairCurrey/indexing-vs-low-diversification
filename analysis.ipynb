{
 "cells": [
  {
   "cell_type": "markdown",
   "metadata": {},
   "source": [
    "# Problem\n",
    "\n",
    "In some investment circles you often hear statistics such as [\"90% of actively managed investment funds failed to beat the market\"](https://www.businessinsider.com/personal-finance/investment-pros-cant-beat-the-stock-market-2020-7)\n",
    "in support of the idea of just buying index funds. For whatever it's worth, I like index funds too and think indexing is a good strategy. But sometimes these statistics are stretched too far to suggest that it's very unlikely that you could beat the market. These are dogmatic indexers. Sometimes it's even implied that this means there is a 10% chance of beating the market. Intuitively this just doesn't make sense.\n",
    "\n",
    "In response to this idea that an average person has a miniscule chance of beating the market, I ask myself, \"If I were to pick 1 stock, isn't there a fair chance that it will beat the market?\" Warren Buffet has famously asserted that \"diverisification is a protection against ignorance.\" We may not have the knowledge of Mr. Buffet but we can be confident that minimum portfolio diversity will have a high chance of deviating from the market average. The question at this point is the probablity that it strays in the desired direction.\n",
    "\n",
    "These claims about beating the market are so common I decided to test the questions I asked myself. My goal is to find this answer for a period of time dating back as far as possible for a set of \"normal\" companies. The universe of companies is large and their profiles vary. I don't mean finding the next Apple or Amazon, but simply betting on an established, well-known company. Nothing special or complicated. In support of this, I will look at DIA, the oldest mutual fund tracking the Dow Jones, and it's components to see what portion of these outperformed the index as a whole since 1998."
   ]
  },
  {
   "cell_type": "markdown",
   "metadata": {},
   "source": [
    "## Limitations of this approach\n",
    "\n",
    "- Only 1 time period. We are limited by access to data here.\n",
    "- This only looks at the change in price between a start and end date. This does not suggest what performance would be like if you were to invest at intervals during this time period, such as dollar-cost-averaging.\n",
    "- Does not factor in dividends."
   ]
  },
  {
   "cell_type": "markdown",
   "metadata": {},
   "source": [
    "# Analysis"
   ]
  },
  {
   "cell_type": "markdown",
   "metadata": {},
   "source": [
    "## Import"
   ]
  },
  {
   "cell_type": "code",
   "execution_count": 14,
   "metadata": {},
   "outputs": [],
   "source": [
    "from common import *\n",
    "import matplotlib.pyplot as plt\n",
    "pd.set_option('display.max_rows', 10)"
   ]
  },
  {
   "cell_type": "markdown",
   "metadata": {},
   "source": [
    "## Data Pipeline\n",
    "Uses functions defined in `common.py` to prepare our dataset."
   ]
  },
  {
   "cell_type": "code",
   "execution_count": 15,
   "metadata": {},
   "outputs": [
    {
     "name": "stdout",
     "output_type": "stream",
     "text": [
      "startPipeline:\n",
      "  runtime=0:00:00, end shape=(63, 7)\n",
      "clean:\n",
      "  runtime=0:00:00.000979, end shape=(62, 7)\n",
      "trim:\n",
      "  runtime=0:00:00.000997, end shape=(62, 1)\n",
      "flatten_date:\n",
      "  runtime=0:00:00.007032, end shape=(31, 4)\n",
      "remove_outliers:\n",
      "  runtime=0:00:00, end shape=(31, 4)\n",
      "add_percent_change:\n",
      "  runtime=0:00:00.001985, end shape=(31, 5)\n"
     ]
    },
    {
     "data": {
      "text/html": [
       "<div>\n",
       "<style scoped>\n",
       "    .dataframe tbody tr th:only-of-type {\n",
       "        vertical-align: middle;\n",
       "    }\n",
       "\n",
       "    .dataframe tbody tr th {\n",
       "        vertical-align: top;\n",
       "    }\n",
       "\n",
       "    .dataframe thead th {\n",
       "        text-align: right;\n",
       "    }\n",
       "</style>\n",
       "<table border=\"1\" class=\"dataframe\">\n",
       "  <thead>\n",
       "    <tr style=\"text-align: right;\">\n",
       "      <th></th>\n",
       "      <th>Start Date</th>\n",
       "      <th>End Date</th>\n",
       "      <th>Start Close</th>\n",
       "      <th>End Close</th>\n",
       "      <th>Percent Change</th>\n",
       "    </tr>\n",
       "    <tr>\n",
       "      <th>Symbol</th>\n",
       "      <th></th>\n",
       "      <th></th>\n",
       "      <th></th>\n",
       "      <th></th>\n",
       "      <th></th>\n",
       "    </tr>\n",
       "  </thead>\n",
       "  <tbody>\n",
       "    <tr>\n",
       "      <th>AA</th>\n",
       "      <td>1998-01-20</td>\n",
       "      <td>2021-01-14</td>\n",
       "      <td>29.530121</td>\n",
       "      <td>25.090000</td>\n",
       "      <td>-15.035904</td>\n",
       "    </tr>\n",
       "    <tr>\n",
       "      <th>AXP</th>\n",
       "      <td>1998-01-20</td>\n",
       "      <td>2021-01-14</td>\n",
       "      <td>17.698372</td>\n",
       "      <td>123.779999</td>\n",
       "      <td>599.386359</td>\n",
       "    </tr>\n",
       "    <tr>\n",
       "      <th>BA</th>\n",
       "      <td>1998-01-20</td>\n",
       "      <td>2021-01-14</td>\n",
       "      <td>27.150482</td>\n",
       "      <td>209.910004</td>\n",
       "      <td>673.135454</td>\n",
       "    </tr>\n",
       "    <tr>\n",
       "      <th>CAT</th>\n",
       "      <td>1998-01-20</td>\n",
       "      <td>2021-01-14</td>\n",
       "      <td>9.994546</td>\n",
       "      <td>197.399994</td>\n",
       "      <td>1875.077159</td>\n",
       "    </tr>\n",
       "    <tr>\n",
       "      <th>COKE</th>\n",
       "      <td>1998-01-20</td>\n",
       "      <td>2021-01-14</td>\n",
       "      <td>42.274349</td>\n",
       "      <td>258.570007</td>\n",
       "      <td>511.647517</td>\n",
       "    </tr>\n",
       "    <tr>\n",
       "      <th>...</th>\n",
       "      <td>...</td>\n",
       "      <td>...</td>\n",
       "      <td>...</td>\n",
       "      <td>...</td>\n",
       "      <td>...</td>\n",
       "    </tr>\n",
       "    <tr>\n",
       "      <th>T</th>\n",
       "      <td>1998-01-20</td>\n",
       "      <td>2021-01-14</td>\n",
       "      <td>12.724303</td>\n",
       "      <td>29.290001</td>\n",
       "      <td>130.189428</td>\n",
       "    </tr>\n",
       "    <tr>\n",
       "      <th>TRV</th>\n",
       "      <td>1998-01-20</td>\n",
       "      <td>2021-01-14</td>\n",
       "      <td>23.375343</td>\n",
       "      <td>142.320007</td>\n",
       "      <td>508.846704</td>\n",
       "    </tr>\n",
       "    <tr>\n",
       "      <th>UK</th>\n",
       "      <td>1998-01-20</td>\n",
       "      <td>2021-01-14</td>\n",
       "      <td>NaN</td>\n",
       "      <td>NaN</td>\n",
       "      <td>-200.000000</td>\n",
       "    </tr>\n",
       "    <tr>\n",
       "      <th>WMT</th>\n",
       "      <td>1998-01-20</td>\n",
       "      <td>2021-01-14</td>\n",
       "      <td>14.052621</td>\n",
       "      <td>146.970001</td>\n",
       "      <td>945.854737</td>\n",
       "    </tr>\n",
       "    <tr>\n",
       "      <th>XOM</th>\n",
       "      <td>1998-01-20</td>\n",
       "      <td>2021-01-14</td>\n",
       "      <td>15.515985</td>\n",
       "      <td>50.310001</td>\n",
       "      <td>224.246252</td>\n",
       "    </tr>\n",
       "  </tbody>\n",
       "</table>\n",
       "<p>31 rows × 5 columns</p>\n",
       "</div>"
      ],
      "text/plain": [
       "        Start Date    End Date  Start Close   End Close  Percent Change\n",
       "Symbol                                                                 \n",
       "AA      1998-01-20  2021-01-14    29.530121   25.090000      -15.035904\n",
       "AXP     1998-01-20  2021-01-14    17.698372  123.779999      599.386359\n",
       "BA      1998-01-20  2021-01-14    27.150482  209.910004      673.135454\n",
       "CAT     1998-01-20  2021-01-14     9.994546  197.399994     1875.077159\n",
       "COKE    1998-01-20  2021-01-14    42.274349  258.570007      511.647517\n",
       "...            ...         ...          ...         ...             ...\n",
       "T       1998-01-20  2021-01-14    12.724303   29.290001      130.189428\n",
       "TRV     1998-01-20  2021-01-14    23.375343  142.320007      508.846704\n",
       "UK      1998-01-20  2021-01-14          NaN         NaN     -200.000000\n",
       "WMT     1998-01-20  2021-01-14    14.052621  146.970001      945.854737\n",
       "XOM     1998-01-20  2021-01-14    15.515985   50.310001      224.246252\n",
       "\n",
       "[31 rows x 5 columns]"
      ]
     },
     "execution_count": 15,
     "metadata": {},
     "output_type": "execute_result"
    }
   ],
   "source": [
    "df = pd.read_csv(\"data/dow.csv\", index_col=[0,1])\n",
    "\n",
    "df_processed = (df\n",
    " .pipe(startPipeline)\n",
    " .pipe(clean)\n",
    " .pipe(trim)\n",
    " .pipe(flatten_date)\n",
    " .pipe(remove_outliers)\n",
    " .pipe(add_percent_change)\n",
    ")\n",
    "\n",
    "df_processed"
   ]
  },
  {
   "cell_type": "markdown",
   "metadata": {},
   "source": [
    "## Benchmark (DIA) Performance Since 1998"
   ]
  },
  {
   "cell_type": "code",
   "execution_count": 16,
   "metadata": {},
   "outputs": [
    {
     "name": "stdout",
     "output_type": "stream",
     "text": [
      "The Dow Jones has risen 549.561518336611 from 1998-01-20 to 1998-01-20\n"
     ]
    }
   ],
   "source": [
    "def benchmark_percent_change(df):\n",
    "    return df.loc[\"DIA\"][\"Percent Change\"]\n",
    "\n",
    "def print_benchmark_info(df):\n",
    "    dia_pct_change = benchmark_percent_change(df)\n",
    "    print(f\"The Dow Jones has risen {dia_pct_change} from \" \\\n",
    "          f\"{df.loc['DIA']['Start Date']} to {df.loc['DIA']['Start Date']}\")\n",
    "\n",
    "print_benchmark_info(df_processed)"
   ]
  },
  {
   "cell_type": "markdown",
   "metadata": {},
   "source": [
    "As we can see, the DIA has risen 549.56% since 01/20/1998. Now we can compare this to each company to see how many companies rose more."
   ]
  },
  {
   "cell_type": "markdown",
   "metadata": {},
   "source": [
    "## Percent of Individual Dow Companies that Outperformed DIA"
   ]
  },
  {
   "cell_type": "code",
   "execution_count": 17,
   "metadata": {},
   "outputs": [
    {
     "name": "stdout",
     "output_type": "stream",
     "text": [
      "43.33% performed better than DIA (13/30)\n",
      "711.66% was the median percent change for the outperformers\n",
      "Outperformers:\n",
      "['AXP', 'BA', 'CAT', 'CVX', 'DIS', 'HON', 'JNJ', 'JPM', 'MCD', 'MMM', 'MO', 'RTX', 'WMT']\n"
     ]
    }
   ],
   "source": [
    "def outperformers(df):\n",
    "    return df[df[\"Percent Change\"] > benchmark_percent_change(df)]\n",
    "\n",
    "def underperformers(df):\n",
    "    return df[df[\"Percent Change\"] < benchmark_percent_change(df)]\n",
    "\n",
    "def print_outperformers_info(df):\n",
    "    total_companies = len(df) - 1 # exclude DIA\n",
    "    df_outperform = outperformers(df)\n",
    "    total_above_dia = len(df_outperform)\n",
    "    \n",
    "    float_string = \"%.2f\" % (total_above_dia/total_companies * 100)\n",
    "    avg_outperform_string = \"%.2f\" % df_outperform['Percent Change'].median()\n",
    "    \n",
    "    print(f\"{float_string}% performed better than DIA ({total_above_dia}/{total_companies})\")\n",
    "    print(f\"{avg_outperform_string}% was the median percent change for the outperformers\")\n",
    "    print(f\"Outperformers:\\n{df_outperform.index.to_list()}\")\n",
    "    \n",
    "print_outperformers_info(df_processed)"
   ]
  },
  {
   "cell_type": "code",
   "execution_count": 18,
   "metadata": {},
   "outputs": [
    {
     "name": "stdout",
     "output_type": "stream",
     "text": [
      "The standard deviation of the Dow Jones is 504.0683919778865\n"
     ]
    }
   ],
   "source": [
    "def print_std(df):\n",
    "    std = df.drop(\"DIA\")[\"Percent Change\"].std()\n",
    "    print(f\"The standard deviation of the Dow Jones is {std}\")\n",
    "    \n",
    "print_std(df_processed)"
   ]
  },
  {
   "cell_type": "markdown",
   "metadata": {},
   "source": [
    "## Conclusions\n",
    "\n",
    "43.33% (13/30) of the companies in the Dow Jones in 1998 beat DIA, the Dow Jones Index, over the same time period, with a median outperformer rising 711.66%, compared to the 549.56% for DIA. Components of the Dow have a standard deviation of 504.07%.\n",
    "\n",
    "A few of these companies went bankrupt and were delisted. These are represented by `NaN` in our dataframe because there was no stock data for either their start, end, or both. However, we know the percent change for any number to 0 is -200%, so we are able to use this to calculate the standard deviation. And of course, they are part of the 17 companies that did not beat the average.\n",
    "\n",
    "This suggests if you were to invest in a Dow Jones company your chance of beating the market is likely much higher than the miniscule 10% sometimes implied by dogmatic indexers.\n",
    "\n",
    "Instead of suggesting that one's chances of beating the market is necessarily low, I think it's better conclude that most people are not willing to accept the risk of straying from the market average."
   ]
  }
 ],
 "metadata": {
  "kernelspec": {
   "display_name": "ivld-venv",
   "language": "python",
   "name": "ivld-venv"
  },
  "language_info": {
   "codemirror_mode": {
    "name": "ipython",
    "version": 3
   },
   "file_extension": ".py",
   "mimetype": "text/x-python",
   "name": "python",
   "nbconvert_exporter": "python",
   "pygments_lexer": "ipython3",
   "version": "3.8.5"
  }
 },
 "nbformat": 4,
 "nbformat_minor": 4
}
